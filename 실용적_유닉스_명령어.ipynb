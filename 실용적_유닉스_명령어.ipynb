{
  "nbformat": 4,
  "nbformat_minor": 0,
  "metadata": {
    "colab": {
      "provenance": [],
      "authorship_tag": "ABX9TyNVRUHMvDXbj+5n1sSuGnwo",
      "include_colab_link": true
    },
    "kernelspec": {
      "name": "python3",
      "display_name": "Python 3"
    },
    "language_info": {
      "name": "python"
    }
  },
  "cells": [
    {
      "cell_type": "markdown",
      "metadata": {
        "id": "view-in-github",
        "colab_type": "text"
      },
      "source": [
        "<a href=\"https://colab.research.google.com/github/pymaru0318/git_practice/blob/main/%EC%8B%A4%EC%9A%A9%EC%A0%81_%EC%9C%A0%EB%8B%89%EC%8A%A4_%EB%AA%85%EB%A0%B9%EC%96%B4.ipynb\" target=\"_parent\"><img src=\"https://colab.research.google.com/assets/colab-badge.svg\" alt=\"Open In Colab\"/></a>"
      ]
    },
    {
      "cell_type": "markdown",
      "source": [
        "# 설치 전 주의사항\n",
        "\n",
        "- 설치 전 중요한 자료들은 반드시 백업!\n",
        "- 구글드라이브, 외장하드…\n",
        "- 설치 시 예상하지 못한 오류, 포맷 등 여러 가지 상황이 있을 수 있습니다.\n",
        "- 윈도우 계정 이름이 한글인 경우 아나콘다 설치 불가\n",
        "- 윈도우 계정 이름 변경과 아나콘다 설치가 불가능한 것은 아니지만…\n",
        "- 문제가 생길 가능성이 높습니다\n",
        "- 한 번의 컴퓨터 포맷(초기화) 후 진행을 권장드립니다.\n",
        "- 안내드릴 설치 방법은 공식문서를 참고한 내용입니다.\n",
        "- 사용자의 컴퓨터 환경, 그 외 여러가지 요인으로 설치가 안될 수 있음\n",
        "- 구글링 등 방법으로 해결 및 진행 불가 시, 강사 또는 멘토에게 도움 요청"
      ],
      "metadata": {
        "id": "SZUl0H6wo2B8"
      }
    },
    {
      "cell_type": "markdown",
      "source": [
        "# 실용적 유닉스 커맨드\n",
        "- https://www.codeit.kr/topics/practical-unix-commands/lessons/4907"
      ],
      "metadata": {
        "id": "4GGig_kNqo2b"
      }
    },
    {
      "cell_type": "markdown",
      "source": [
        "## windows 사용자\n",
        "- git bash 설치\n",
        "    - https://git-scm.com/downloads\n",
        "\n",
        "## mac 사용자\n",
        "- terminal 실행"
      ],
      "metadata": {
        "id": "JHUxk4ziyT7x"
      }
    },
    {
      "cell_type": "markdown",
      "source": [
        "### 주요 개념\n",
        "- [유닉스 커맨드 시작하기 퀴즈](https://www.codeit.kr/topics/practical-unix-commands/lessons/4900)\n",
        "\n",
        "- 루트 디렉토리\n",
        "    - 파일 시스템의 최상위 디렉토리\n",
        "    - `/` 로 표시\n",
        "- 경로\n",
        "    - 파일이나 디렉토리의 위치를 나타내는 문자열\n",
        "- 절대경로와 상대경로\n",
        "    - 절대경로: /root/home/user/documents/report.txt\n",
        "    - 상대경로: /documents/report.txt\n",
        "        - 현재 디렉토리가 /home/user 에 있는 경우\n",
        "- GUI와 CLI\n",
        "    - GUI(Graphical User Interface)\n",
        "        - 사용자가 그래픽을 통해 컴퓨터와 상호작용하는 방식\n",
        "        - 마우스로 아이콘을 클릭하는 등\n",
        "    - CLI(Command Line Interface)\n",
        "        - 텍스트 기반 인터페이스\n",
        "        - 사용자가 텍스트 명령어를 입력하여 컴퓨터와 상호작용(명령)\n",
        "- 터미널, 쉘, bash, zsh\n",
        "     - 터미널: 사용자가 시스템에 명령을 내릴 수 있게 해주는 입력 및 출력 환경\n",
        "     - 쉘(shell): 사용자의 명령을 해석하고 실행하는 프로그램\n",
        "     - bash, zsh: 가장 보편적으로 사용되는 유닉스 쉘 중 하나"
      ],
      "metadata": {
        "id": "GF7GZl_4mwGS"
      }
    },
    {
      "cell_type": "markdown",
      "source": [
        "### 터미널\n",
        "- 터미널은 인풋을 받고, 아웃풋을 출력해 주는 프로그램을 뜻합니다.\n",
        "- 우리가 보통 생각하는 커맨드를 입력하는 '검은 화면'을 터미널이라고 할 수 있는 거죠."
      ],
      "metadata": {
        "id": "a04vv5__hAcn"
      }
    },
    {
      "cell_type": "markdown",
      "source": [
        "### shell, bash, zsh\n",
        "- shell은 커맨드를 해석해 주는 프로그램입니다.\n",
        "- 컴퓨터는 사실 date나 cal같은 단어를 이해하지 못합니다. 그래서 이런 커맨드들을 컴퓨터가 이해할 수 있는 형태로 바꿔줘야 하는데, 그게 바로 shell이 하는 역할이죠.\n",
        "- shell이 date같은 커맨드를 컴퓨터가 이해할 수 있는 형태로 바꿔서 전달해 주면, 컴퓨터가 실제로 커맨드를 '실행'하고 결과를 되돌려 주는 겁니다.\n",
        "- shell 종류 중 하나가 바로 bash(Bourne again shell)인데요. 가장 보편적이고, 많은 유닉스 운영 체제에서 기본 shell로 사용됩니다. 많은 분들이 사용하고 계실 Ubuntu의 기본 shell이기도 하고요. macOS는 10.15 Catalina 이전 버전에는 bash를 기본으로 썼었는데, 10.15 버전 이후부터는 zsh(Z shell)을 기본으로 쓰기 시작했습니다.\n",
        "- shell과 터미널은 엄밀히 말하면 서로 다르지만, 커맨드를 입력하는 '검은 화면'을 그냥 shell이라고 부르는 경우도 많으니까 참고해 두시면 좋을 것 같습니다."
      ],
      "metadata": {
        "id": "r37-8C3shGPl"
      }
    },
    {
      "cell_type": "code",
      "source": [
        "!date"
      ],
      "metadata": {
        "colab": {
          "base_uri": "https://localhost:8080/"
        },
        "id": "QrzNqzYri-Ot",
        "outputId": "b8c97ebb-0b17-454b-80e8-7d039f50449b"
      },
      "execution_count": null,
      "outputs": [
        {
          "output_type": "stream",
          "name": "stdout",
          "text": [
            "Tue Sep 10 01:28:31 AM UTC 2024\n"
          ]
        }
      ]
    },
    {
      "cell_type": "code",
      "source": [
        "!apt-get install -y bsdmainutils\n",
        "# 이번 달 달력 출력\n",
        "!cal"
      ],
      "metadata": {
        "colab": {
          "base_uri": "https://localhost:8080/"
        },
        "id": "rHh4zTLch9mx",
        "outputId": "e3523f55-0620-421e-a000-4a63c256a97f"
      },
      "execution_count": null,
      "outputs": [
        {
          "output_type": "stream",
          "name": "stdout",
          "text": [
            "   September 2024     \n",
            "Su Mo Tu We Th Fr Sa  \n",
            " 1  2  3  4  5  6  7  \n",
            " 8  9 10 11 12 13 14  \n",
            "15 16 17 18 19 20 21  \n",
            "22 23 24 25 26 27 28  \n",
            "29 30                 \n",
            "                      \n"
          ]
        }
      ]
    },
    {
      "cell_type": "code",
      "source": [
        "# 특정년도, 월 달력 출력\n",
        "# cal 을 커맨드(command)\n",
        "# 10 2024 를 아규먼트(argument)\n",
        "# 아규먼트는 커맨드의 대상\n",
        "!cal 10 2024"
      ],
      "metadata": {
        "colab": {
          "base_uri": "https://localhost:8080/"
        },
        "id": "EkxskQsWjCsw",
        "outputId": "1111708d-726a-4e57-cd65-c9a3d4174de5"
      },
      "execution_count": null,
      "outputs": [
        {
          "output_type": "stream",
          "name": "stdout",
          "text": [
            "    October 2024      \n",
            "Su Mo Tu We Th Fr Sa  \n",
            "       1  2  3  4  5  \n",
            " 6  7  8  9 10 11 12  \n",
            "13 14 15 16 17 18 19  \n",
            "20 21 22 23 24 25 26  \n",
            "27 28 29 30 31        \n",
            "                      \n"
          ]
        }
      ]
    },
    {
      "cell_type": "code",
      "source": [
        "# 옵션(option)\n",
        "# 커맨드를 어떻게 실행시킬지 결정\n",
        "# -j 몇 번째 날인지 나오는 표기로 출력\n",
        "!cal -j 2024"
      ],
      "metadata": {
        "colab": {
          "base_uri": "https://localhost:8080/"
        },
        "collapsed": true,
        "id": "u18OxjcEjWod",
        "outputId": "0b36b20f-ecec-4b07-8f65-6236cc6118fa"
      },
      "execution_count": null,
      "outputs": [
        {
          "output_type": "stream",
          "name": "stdout",
          "text": [
            "                         2024\n",
            "          January                     February            \n",
            " Su  Mo  Tu  We  Th  Fr  Sa   Su  Mo  Tu  We  Th  Fr  Sa  \n",
            "      1   2   3   4   5   6                   32  33  34  \n",
            "  7   8   9  10  11  12  13   35  36  37  38  39  40  41  \n",
            " 14  15  16  17  18  19  20   42  43  44  45  46  47  48  \n",
            " 21  22  23  24  25  26  27   49  50  51  52  53  54  55  \n",
            " 28  29  30  31               56  57  58  59  60          \n",
            "                                                          \n",
            "\n",
            "           March                        April             \n",
            " Su  Mo  Tu  We  Th  Fr  Sa   Su  Mo  Tu  We  Th  Fr  Sa  \n",
            "                     61  62       92  93  94  95  96  97  \n",
            " 63  64  65  66  67  68  69   98  99 100 101 102 103 104  \n",
            " 70  71  72  73  74  75  76  105 106 107 108 109 110 111  \n",
            " 77  78  79  80  81  82  83  112 113 114 115 116 117 118  \n",
            " 84  85  86  87  88  89  90  119 120 121                  \n",
            " 91                                                       \n",
            "\n",
            "            May                         June              \n",
            " Su  Mo  Tu  We  Th  Fr  Sa   Su  Mo  Tu  We  Th  Fr  Sa  \n",
            "            122 123 124 125                          153  \n",
            "126 127 128 129 130 131 132  154 155 156 157 158 159 160  \n",
            "133 134 135 136 137 138 139  161 162 163 164 165 166 167  \n",
            "140 141 142 143 144 145 146  168 169 170 171 172 173 174  \n",
            "147 148 149 150 151 152      175 176 177 178 179 180 181  \n",
            "                             182                          \n",
            "\n",
            "           July                        August             \n",
            " Su  Mo  Tu  We  Th  Fr  Sa   Su  Mo  Tu  We  Th  Fr  Sa  \n",
            "    183 184 185 186 187 188                  214 215 216  \n",
            "189 190 191 192 193 194 195  217 218 219 220 221 222 223  \n",
            "196 197 198 199 200 201 202  224 225 226 227 228 229 230  \n",
            "203 204 205 206 207 208 209  231 232 233 234 235 236 237  \n",
            "210 211 212 213              238 239 240 241 242 243 244  \n",
            "                                                          \n",
            "\n",
            "         September                     October            \n",
            " Su  Mo  Tu  We  Th  Fr  Sa   Su  Mo  Tu  We  Th  Fr  Sa  \n",
            "245 246 247 248 249 250 251          275 276 277 278 279  \n",
            "252 253 254 255 256 257 258  280 281 282 283 284 285 286  \n",
            "259 260 261 262 263 264 265  287 288 289 290 291 292 293  \n",
            "266 267 268 269 270 271 272  294 295 296 297 298 299 300  \n",
            "273 274                      301 302 303 304 305          \n",
            "                                                          \n",
            "\n",
            "         November                     December            \n",
            " Su  Mo  Tu  We  Th  Fr  Sa   Su  Mo  Tu  We  Th  Fr  Sa  \n",
            "                    306 307  336 337 338 339 340 341 342  \n",
            "308 309 310 311 312 313 314  343 344 345 346 347 348 349  \n",
            "315 316 317 318 319 320 321  350 351 352 353 354 355 356  \n",
            "322 323 324 325 326 327 328  357 358 359 360 361 362 363  \n",
            "329 330 331 332 333 334 335  364 365 366                  \n",
            "                                                          \n"
          ]
        }
      ]
    },
    {
      "cell_type": "code",
      "source": [
        "# 옵션을 조합해서 사용 가능\n",
        "# y 옵션은 default 값\n",
        "!cal -yj 2024"
      ],
      "metadata": {
        "colab": {
          "base_uri": "https://localhost:8080/"
        },
        "collapsed": true,
        "id": "y0zzxB4-jii5",
        "outputId": "cc1ea0f3-0473-4ac9-d2fe-17be760ca777"
      },
      "execution_count": null,
      "outputs": [
        {
          "output_type": "stream",
          "name": "stdout",
          "text": [
            "                         2024\n",
            "          January                     February            \n",
            " Su  Mo  Tu  We  Th  Fr  Sa   Su  Mo  Tu  We  Th  Fr  Sa  \n",
            "      1   2   3   4   5   6                   32  33  34  \n",
            "  7   8   9  10  11  12  13   35  36  37  38  39  40  41  \n",
            " 14  15  16  17  18  19  20   42  43  44  45  46  47  48  \n",
            " 21  22  23  24  25  26  27   49  50  51  52  53  54  55  \n",
            " 28  29  30  31               56  57  58  59  60          \n",
            "                                                          \n",
            "\n",
            "           March                        April             \n",
            " Su  Mo  Tu  We  Th  Fr  Sa   Su  Mo  Tu  We  Th  Fr  Sa  \n",
            "                     61  62       92  93  94  95  96  97  \n",
            " 63  64  65  66  67  68  69   98  99 100 101 102 103 104  \n",
            " 70  71  72  73  74  75  76  105 106 107 108 109 110 111  \n",
            " 77  78  79  80  81  82  83  112 113 114 115 116 117 118  \n",
            " 84  85  86  87  88  89  90  119 120 121                  \n",
            " 91                                                       \n",
            "\n",
            "            May                         June              \n",
            " Su  Mo  Tu  We  Th  Fr  Sa   Su  Mo  Tu  We  Th  Fr  Sa  \n",
            "            122 123 124 125                          153  \n",
            "126 127 128 129 130 131 132  154 155 156 157 158 159 160  \n",
            "133 134 135 136 137 138 139  161 162 163 164 165 166 167  \n",
            "140 141 142 143 144 145 146  168 169 170 171 172 173 174  \n",
            "147 148 149 150 151 152      175 176 177 178 179 180 181  \n",
            "                             182                          \n",
            "\n",
            "           July                        August             \n",
            " Su  Mo  Tu  We  Th  Fr  Sa   Su  Mo  Tu  We  Th  Fr  Sa  \n",
            "    183 184 185 186 187 188                  214 215 216  \n",
            "189 190 191 192 193 194 195  217 218 219 220 221 222 223  \n",
            "196 197 198 199 200 201 202  224 225 226 227 228 229 230  \n",
            "203 204 205 206 207 208 209  231 232 233 234 235 236 237  \n",
            "210 211 212 213              238 239 240 241 242 243 244  \n",
            "                                                          \n",
            "\n",
            "         September                     October            \n",
            " Su  Mo  Tu  We  Th  Fr  Sa   Su  Mo  Tu  We  Th  Fr  Sa  \n",
            "245 246 247 248 249 250 251          275 276 277 278 279  \n",
            "252 253 254 255 256 257 258  280 281 282 283 284 285 286  \n",
            "259 260 261 262 263 264 265  287 288 289 290 291 292 293  \n",
            "266 267 268 269 270 271 272  294 295 296 297 298 299 300  \n",
            "273 274                      301 302 303 304 305          \n",
            "                                                          \n",
            "\n",
            "         November                     December            \n",
            " Su  Mo  Tu  We  Th  Fr  Sa   Su  Mo  Tu  We  Th  Fr  Sa  \n",
            "                    306 307  336 337 338 339 340 341 342  \n",
            "308 309 310 311 312 313 314  343 344 345 346 347 348 349  \n",
            "315 316 317 318 319 320 321  350 351 352 353 354 355 356  \n",
            "322 323 324 325 326 327 328  357 358 359 360 361 362 363  \n",
            "329 330 331 332 333 334 335  364 365 366                  \n",
            "                                                          \n"
          ]
        }
      ]
    },
    {
      "cell_type": "code",
      "source": [
        "!man ls"
      ],
      "metadata": {
        "colab": {
          "base_uri": "https://localhost:8080/"
        },
        "id": "AWlpEpZ8fmB6",
        "outputId": "2e59732d-e673-4caf-fab6-6c86c76ebf9c"
      },
      "execution_count": null,
      "outputs": [
        {
          "output_type": "stream",
          "name": "stdout",
          "text": [
            "This system has been minimized by removing packages and content that are\n",
            "not required on a system that users do not log into.\n",
            "\n",
            "To restore this content, including manpages, you can run the 'unminimize'\n",
            "command. You will still need to ensure the 'man-db' package is installed.\n"
          ]
        }
      ]
    },
    {
      "cell_type": "code",
      "source": [
        "!ls --help"
      ],
      "metadata": {
        "colab": {
          "base_uri": "https://localhost:8080/"
        },
        "collapsed": true,
        "id": "vjPwCVszgNuP",
        "outputId": "1a5a6567-97b0-4e43-c0cb-17ade9a2090e"
      },
      "execution_count": null,
      "outputs": [
        {
          "output_type": "stream",
          "name": "stdout",
          "text": [
            "Usage: ls [OPTION]... [FILE]...\n",
            "List information about the FILEs (the current directory by default).\n",
            "Sort entries alphabetically if none of -cftuvSUX nor --sort is specified.\n",
            "\n",
            "Mandatory arguments to long options are mandatory for short options too.\n",
            "  -a, --all                  do not ignore entries starting with .\n",
            "  -A, --almost-all           do not list implied . and ..\n",
            "      --author               with -l, print the author of each file\n",
            "  -b, --escape               print C-style escapes for nongraphic characters\n",
            "      --block-size=SIZE      with -l, scale sizes by SIZE when printing them;\n",
            "                               e.g., '--block-size=M'; see SIZE format below\n",
            "  -B, --ignore-backups       do not list implied entries ending with ~\n",
            "  -c                         with -lt: sort by, and show, ctime (time of last\n",
            "                               modification of file status information);\n",
            "                               with -l: show ctime and sort by name;\n",
            "                               otherwise: sort by ctime, newest first\n",
            "  -C                         list entries by columns\n",
            "      --color[=WHEN]         colorize the output; WHEN can be 'always' (default\n",
            "                               if omitted), 'auto', or 'never'; more info below\n",
            "  -d, --directory            list directories themselves, not their contents\n",
            "  -D, --dired                generate output designed for Emacs' dired mode\n",
            "  -f                         do not sort, enable -aU, disable -ls --color\n",
            "  -F, --classify             append indicator (one of */=>@|) to entries\n",
            "      --file-type            likewise, except do not append '*'\n",
            "      --format=WORD          across -x, commas -m, horizontal -x, long -l,\n",
            "                               single-column -1, verbose -l, vertical -C\n",
            "      --full-time            like -l --time-style=full-iso\n",
            "  -g                         like -l, but do not list owner\n",
            "      --group-directories-first\n",
            "                             group directories before files;\n",
            "                               can be augmented with a --sort option, but any\n",
            "                               use of --sort=none (-U) disables grouping\n",
            "  -G, --no-group             in a long listing, don't print group names\n",
            "  -h, --human-readable       with -l and -s, print sizes like 1K 234M 2G etc.\n",
            "      --si                   likewise, but use powers of 1000 not 1024\n",
            "  -H, --dereference-command-line\n",
            "                             follow symbolic links listed on the command line\n",
            "      --dereference-command-line-symlink-to-dir\n",
            "                             follow each command line symbolic link\n",
            "                               that points to a directory\n",
            "      --hide=PATTERN         do not list implied entries matching shell PATTERN\n",
            "                               (overridden by -a or -A)\n",
            "      --hyperlink[=WHEN]     hyperlink file names; WHEN can be 'always'\n",
            "                               (default if omitted), 'auto', or 'never'\n",
            "      --indicator-style=WORD  append indicator with style WORD to entry names:\n",
            "                               none (default), slash (-p),\n",
            "                               file-type (--file-type), classify (-F)\n",
            "  -i, --inode                print the index number of each file\n",
            "  -I, --ignore=PATTERN       do not list implied entries matching shell PATTERN\n",
            "  -k, --kibibytes            default to 1024-byte blocks for disk usage;\n",
            "                               used only with -s and per directory totals\n",
            "  -l                         use a long listing format\n",
            "  -L, --dereference          when showing file information for a symbolic\n",
            "                               link, show information for the file the link\n",
            "                               references rather than for the link itself\n",
            "  -m                         fill width with a comma separated list of entries\n",
            "  -n, --numeric-uid-gid      like -l, but list numeric user and group IDs\n",
            "  -N, --literal              print entry names without quoting\n",
            "  -o                         like -l, but do not list group information\n",
            "  -p, --indicator-style=slash\n",
            "                             append / indicator to directories\n",
            "  -q, --hide-control-chars   print ? instead of nongraphic characters\n",
            "      --show-control-chars   show nongraphic characters as-is (the default,\n",
            "                               unless program is 'ls' and output is a terminal)\n",
            "  -Q, --quote-name           enclose entry names in double quotes\n",
            "      --quoting-style=WORD   use quoting style WORD for entry names:\n",
            "                               literal, locale, shell, shell-always,\n",
            "                               shell-escape, shell-escape-always, c, escape\n",
            "                               (overrides QUOTING_STYLE environment variable)\n",
            "  -r, --reverse              reverse order while sorting\n",
            "  -R, --recursive            list subdirectories recursively\n",
            "  -s, --size                 print the allocated size of each file, in blocks\n",
            "  -S                         sort by file size, largest first\n",
            "      --sort=WORD            sort by WORD instead of name: none (-U), size (-S),\n",
            "                               time (-t), version (-v), extension (-X)\n",
            "      --time=WORD            change the default of using modification times;\n",
            "                               access time (-u): atime, access, use;\n",
            "                               change time (-c): ctime, status;\n",
            "                               birth time: birth, creation;\n",
            "                             with -l, WORD determines which time to show;\n",
            "                             with --sort=time, sort by WORD (newest first)\n",
            "      --time-style=TIME_STYLE  time/date format with -l; see TIME_STYLE below\n",
            "  -t                         sort by time, newest first; see --time\n",
            "  -T, --tabsize=COLS         assume tab stops at each COLS instead of 8\n",
            "  -u                         with -lt: sort by, and show, access time;\n",
            "                               with -l: show access time and sort by name;\n",
            "                               otherwise: sort by access time, newest first\n",
            "  -U                         do not sort; list entries in directory order\n",
            "  -v                         natural sort of (version) numbers within text\n",
            "  -w, --width=COLS           set output width to COLS.  0 means no limit\n",
            "  -x                         list entries by lines instead of by columns\n",
            "  -X                         sort alphabetically by entry extension\n",
            "  -Z, --context              print any security context of each file\n",
            "  -1                         list one file per line.  Avoid '\\n' with -q or -b\n",
            "      --help     display this help and exit\n",
            "      --version  output version information and exit\n",
            "\n",
            "The SIZE argument is an integer and optional unit (example: 10K is 10*1024).\n",
            "Units are K,M,G,T,P,E,Z,Y (powers of 1024) or KB,MB,... (powers of 1000).\n",
            "Binary prefixes can be used, too: KiB=K, MiB=M, and so on.\n",
            "\n",
            "The TIME_STYLE argument can be full-iso, long-iso, iso, locale, or +FORMAT.\n",
            "FORMAT is interpreted like in date(1).  If FORMAT is FORMAT1<newline>FORMAT2,\n",
            "then FORMAT1 applies to non-recent files and FORMAT2 to recent files.\n",
            "TIME_STYLE prefixed with 'posix-' takes effect only outside the POSIX locale.\n",
            "Also the TIME_STYLE environment variable sets the default style to use.\n",
            "\n",
            "Using color to distinguish file types is disabled both by default and\n",
            "with --color=never.  With --color=auto, ls emits color codes only when\n",
            "standard output is connected to a terminal.  The LS_COLORS environment\n",
            "variable can change the settings.  Use the dircolors command to set it.\n",
            "\n",
            "Exit status:\n",
            " 0  if OK,\n",
            " 1  if minor problems (e.g., cannot access subdirectory),\n",
            " 2  if serious trouble (e.g., cannot access command-line argument).\n",
            "\n",
            "GNU coreutils online help: <https://www.gnu.org/software/coreutils/>\n",
            "Full documentation <https://www.gnu.org/software/coreutils/ls>\n",
            "or available locally via: info '(coreutils) ls invocation'\n"
          ]
        }
      ]
    },
    {
      "cell_type": "markdown",
      "source": [
        "## 유닉스 폴더 구조와 파일 경로"
      ],
      "metadata": {
        "id": "203qWuh2qeSJ"
      }
    },
    {
      "cell_type": "markdown",
      "source": [
        "### 디렉토리와 파일 다루기 퀴즈\n",
        "- [디렉토리와 파일다루기 퀴즈1](https://www.codeit.kr/topics/practical-unix-commands/lessons/4907)\n",
        "- [디렉토리와 파일다루기 퀴즈2](https://www.codeit.kr/topics/practical-unix-commands/lessons/4913)\n",
        "- [디렉토리와 파일다루기 퀴즈3](https://www.codeit.kr/topics/practical-unix-commands/lessons/4918)"
      ],
      "metadata": {
        "id": "-wuSzLiUqgFF"
      }
    },
    {
      "cell_type": "markdown",
      "source": [
        "### 디렉토리와 파일 둘러보기\n",
        "- pwd\n",
        "    - print working directory\n",
        "    - 현재 내 위치 확인\n",
        "- cd\n",
        "     - change directory\n",
        "     - 폴더 이동\n",
        "- ls\n",
        "    - list\n",
        "    - 현재 폴더 내 파일이나 폴더 목록 확인"
      ],
      "metadata": {
        "id": "xFO855c1qhw4"
      }
    },
    {
      "cell_type": "markdown",
      "source": [
        "### 절대경로와 상대경로"
      ],
      "metadata": {
        "id": "TOHabAEWqkgC"
      }
    },
    {
      "cell_type": "markdown",
      "source": [
        "- 절대경로: 루트 디렉토리(/)로부터 파일 또는 디렉토리의 경로를 명확하게 정의.\n",
        "    - 절대경로: /home/user/documents/file.txt\n",
        "- 상대경로: 현재 위치를 기준으로 경로를 정의.\n",
        "    - 현재 디렉토리가 /home/user라면, documents 폴더 내의 file.txt를 참조."
      ],
      "metadata": {
        "id": "IFMblhNbqnki"
      }
    },
    {
      "cell_type": "markdown",
      "source": [
        "### ls 주요 옵션"
      ],
      "metadata": {
        "id": "XnvOxpaddMoG"
      }
    },
    {
      "cell_type": "code",
      "source": [
        "# 숨김 파일 생성\n",
        "!touch .hidden_file"
      ],
      "metadata": {
        "id": "TvT8OmqWeKIy"
      },
      "execution_count": null,
      "outputs": []
    },
    {
      "cell_type": "markdown",
      "source": [
        "- ls `-a`"
      ],
      "metadata": {
        "id": "PGx5jYESeGp8"
      }
    },
    {
      "cell_type": "code",
      "source": [
        "# 숨김 파일이 보이지 않음\n",
        "!ls"
      ],
      "metadata": {
        "colab": {
          "base_uri": "https://localhost:8080/"
        },
        "id": "_8urNpeUeJ2t",
        "outputId": "2b5e2975-e31e-4c83-c5e5-819fb7a36ab0"
      },
      "execution_count": null,
      "outputs": [
        {
          "output_type": "stream",
          "name": "stdout",
          "text": [
            "sample_data\n"
          ]
        }
      ]
    },
    {
      "cell_type": "code",
      "source": [
        "# 숨김 파일까지 보이는 옵션\n",
        "!ls -a"
      ],
      "metadata": {
        "colab": {
          "base_uri": "https://localhost:8080/"
        },
        "id": "hSO6rH7QeQoe",
        "outputId": "acdbc102-7844-4800-fe71-3aa563f1ef45"
      },
      "execution_count": null,
      "outputs": [
        {
          "output_type": "stream",
          "name": "stdout",
          "text": [
            ".  ..  .config\t.hidden_file  sample_data\n"
          ]
        }
      ]
    },
    {
      "cell_type": "markdown",
      "source": [
        "- `ls -l`\n",
        "    - longformat"
      ],
      "metadata": {
        "id": "gGVauO5leSSw"
      }
    },
    {
      "cell_type": "markdown",
      "source": [
        "- total은 파일의 갯수가 아닌 공간 차지 용량을 나타냄\n",
        "- 1번째 컬럼은 맨 앞 d 파일 형식을 나타냄\n",
        "    - d 는 directory\n",
        "    - `-` 는 일반 파일\n",
        "    - 그 이후 내용은 권한 관련\n",
        "- 2번째 컬럼은 연결된 링크의 수\n",
        "- 3번째 컬럼은 파일의 소유자\n",
        "- 4번째 컬럼은 소유자가 속한 그룹\n",
        "- 5번째 컬럼은 파일의 바이트(byte)\n",
        "- 6번째 컬럼은 파일 수정 날짜\n",
        "- 7번째 컬럼은 파일 이름"
      ],
      "metadata": {
        "id": "eaNV5OPul_iS"
      }
    },
    {
      "cell_type": "code",
      "source": [
        "!ls -l"
      ],
      "metadata": {
        "colab": {
          "base_uri": "https://localhost:8080/"
        },
        "id": "2xh_XPNRlo1e",
        "outputId": "419221b9-94fe-417c-ec45-7f02c50278b6"
      },
      "execution_count": null,
      "outputs": [
        {
          "output_type": "stream",
          "name": "stdout",
          "text": [
            "total 4\n",
            "drwxr-xr-x 1 root root 4096 Sep  5 17:47 sample_data\n"
          ]
        }
      ]
    },
    {
      "cell_type": "code",
      "source": [
        "!ls -al"
      ],
      "metadata": {
        "colab": {
          "base_uri": "https://localhost:8080/"
        },
        "id": "KDg4_dVAlq1w",
        "outputId": "f4fd6c25-b925-4c24-9366-d32d45afdcb7"
      },
      "execution_count": null,
      "outputs": [
        {
          "output_type": "stream",
          "name": "stdout",
          "text": [
            "total 16\n",
            "drwxr-xr-x 1 root root 4096 Sep  8 07:11 .\n",
            "drwxr-xr-x 1 root root 4096 Sep  8 07:10 ..\n",
            "drwxr-xr-x 4 root root 4096 Sep  5 17:47 .config\n",
            "-rw-r--r-- 1 root root    0 Sep  8 07:11 .hidden_file\n",
            "drwxr-xr-x 1 root root 4096 Sep  5 17:47 sample_data\n"
          ]
        }
      ]
    },
    {
      "cell_type": "markdown",
      "source": [
        "### root 디렉토리\n",
        "- https://averagelinuxuser.com/linux-root-folders-explained/"
      ],
      "metadata": {
        "id": "2zONarTJlxY4"
      }
    },
    {
      "cell_type": "markdown",
      "source": [
        "#### /bin\n",
        "- binaries\n",
        "- 컴퓨터가 실행할 수 있는 프로그램\n",
        "- 커맨드도 결국 어떤 프로그램\n",
        "- 커맨드를 입력하면 커맨드에 해당하는 프로그램이 실행\n",
        "- 그리고 그 프로그램들의 일부는 /bin 디렉토리 안에 있습니다."
      ],
      "metadata": {
        "id": "bVxCyu2fnnLR"
      }
    },
    {
      "cell_type": "code",
      "source": [
        "!ls -l /bin"
      ],
      "metadata": {
        "colab": {
          "base_uri": "https://localhost:8080/"
        },
        "id": "6qw3ouznnsoO",
        "outputId": "bd9d5ed6-2176-463f-857d-370e073b7de5"
      },
      "execution_count": null,
      "outputs": [
        {
          "output_type": "stream",
          "name": "stdout",
          "text": [
            "lrwxrwxrwx 1 root root 7 Oct  4  2023 /bin -> usr/bin\n"
          ]
        }
      ]
    },
    {
      "cell_type": "markdown",
      "source": [
        "### /sbin\n",
        "- bin 과 비슷한 관리자 전용 프로그램"
      ],
      "metadata": {
        "id": "qUHgfHEbnubt"
      }
    },
    {
      "cell_type": "code",
      "source": [
        "!ls -l /sbin"
      ],
      "metadata": {
        "colab": {
          "base_uri": "https://localhost:8080/"
        },
        "id": "2KcL8mqIopk5",
        "outputId": "54ccf5a4-3002-4646-a1c6-eaca6a291fe1"
      },
      "execution_count": null,
      "outputs": [
        {
          "output_type": "stream",
          "name": "stdout",
          "text": [
            "lrwxrwxrwx 1 root root 8 Oct  4  2023 /sbin -> usr/sbin\n"
          ]
        }
      ]
    },
    {
      "cell_type": "markdown",
      "source": [
        "### /etc\n",
        "- 프로그램의 설정 파일, 관리자 권한 설정 파일 등"
      ],
      "metadata": {
        "id": "W234bFXEoild"
      }
    },
    {
      "cell_type": "code",
      "source": [
        "!ls -l /etc"
      ],
      "metadata": {
        "colab": {
          "base_uri": "https://localhost:8080/"
        },
        "collapsed": true,
        "id": "_ro31lcWooUb",
        "outputId": "d7abfd0a-f632-4702-d2e5-3069f1d4da34"
      },
      "execution_count": null,
      "outputs": [
        {
          "output_type": "stream",
          "name": "stdout",
          "text": [
            "total 796\n",
            "-rw-r--r-- 1 root root    3028 Oct  4  2023 adduser.conf\n",
            "drwxr-xr-x 1 root root    4096 Sep  5 17:43 alternatives\n",
            "drwxr-xr-x 3 root root    4096 Sep  5 17:39 apparmor.d\n",
            "drwxr-xr-x 1 root root    4096 Oct  4  2023 apt\n",
            "-rw-r--r-- 1 root root    2319 Jan  6  2022 bash.bashrc\n",
            "drwxr-xr-x 2 root root    4096 Sep  5 17:39 bash_completion.d\n",
            "-rw-r--r-- 1 root root     367 Dec 16  2020 bindresvport.blacklist\n",
            "drwxr-xr-x 2 root root    4096 Nov 21  2023 binfmt.d\n",
            "drwxr-xr-x 1 root root    4096 Nov 10  2023 ca-certificates\n",
            "-rw-r--r-- 1 root root    5892 Nov 10  2023 ca-certificates.conf\n",
            "drwxr-xr-x 2 root root    4096 Oct  4  2023 cloud\n",
            "drwxr-xr-x 2 root root    4096 Oct  4  2023 cron.d\n",
            "drwxr-xr-x 1 root root    4096 Sep  5 17:39 cron.daily\n",
            "drwxr-xr-x 2 root root    4096 Sep  5 17:39 cron.weekly\n",
            "lrwxrwxrwx 1 root root      29 Nov 10  2023 cufile.json -> /etc/alternatives/cufile.json\n",
            "drwxr-xr-x 4 root root    4096 Sep  5 17:37 dbus-1\n",
            "drwxr-xr-x 3 root root    4096 Sep  5 17:42 dconf\n",
            "-rw-r--r-- 1 root root    2969 Feb 20  2022 debconf.conf\n",
            "-rw-r--r-- 1 root root      13 Aug 22  2021 debian_version\n",
            "drwxr-xr-x 1 root root    4096 Sep  5 17:43 default\n",
            "-rw-r--r-- 1 root root     604 Sep 15  2018 deluser.conf\n",
            "drwxr-xr-x 2 root root    4096 Sep  5 17:43 depmod.d\n",
            "drwxr-xr-x 1 root root    4096 Nov 10  2023 dpkg\n",
            "-rw-r--r-- 1 root root     685 Jan  8  2022 e2scrub.conf\n",
            "drwxr-xr-x 3 root root    4096 Sep  5 17:42 emacs\n",
            "-rw-r--r-- 1 root root     106 Oct  4  2023 environment\n",
            "drwxr-xr-x 4 root root    4096 Sep  5 17:39 fonts\n",
            "-rw-r--r-- 1 root root      37 Oct  4  2023 fstab\n",
            "-rw-r--r-- 1 root root     280 Aug 10  2021 fuse.conf\n",
            "-rw-r--r-- 1 root root    2584 Feb  3  2022 gai.conf\n",
            "-rw-r--r-- 1 root root     126 Sep  5 17:39 gitconfig\n",
            "drwxr-xr-x 3 root root    4096 Sep  5 17:39 glvnd\n",
            "drwxr-xr-x 2 root root    4096 Sep  5 17:39 groff\n",
            "-rw-r--r-- 1 root root     557 Sep  5 17:39 group\n",
            "-rw-r--r-- 1 root root     545 Sep  5 17:39 group-\n",
            "-rw-r----- 1 root shadow   467 Sep  5 17:39 gshadow\n",
            "-rw-r----- 1 root shadow   458 Sep  5 17:39 gshadow-\n",
            "drwxr-xr-x 3 root root    4096 Feb 21  2022 gss\n",
            "drwxr-xr-x 2 root root    4096 Sep  5 17:43 gtk-3.0\n",
            "-rw-r--r-- 1 root root      92 Oct 15  2021 host.conf\n",
            "-rw-r--r-- 1 root root      13 Sep  8 07:10 hostname\n",
            "-rw-r--r-- 1 root root     175 Sep  8 07:10 hosts\n",
            "drwxr-xr-x 1 root root    4096 Sep  5 17:43 init.d\n",
            "-rw-r--r-- 1 root root    1748 Jan  6  2022 inputrc\n",
            "drwxr-xr-x 4 root root    4096 Sep  5 17:43 iproute2\n",
            "drwxr-xr-x 2 root root    4096 Sep  5 18:06 ipython\n",
            "-rw-r--r-- 1 root root      26 Aug  2  2023 issue\n",
            "-rw-r--r-- 1 root root      19 Aug  2  2023 issue.net\n",
            "drwxr-xr-x 5 root root    4096 Sep  5 17:43 java-11-openjdk\n",
            "drwxr-xr-x 2 root root    4096 Sep  5 18:06 jupyter\n",
            "drwxr-xr-x 1 root root    4096 Sep  5 17:37 kernel\n",
            "-rw-r--r-- 1 root root   87507 Sep  5 18:05 ld.so.cache\n",
            "-rw-r--r-- 1 root root      34 Dec 16  2020 ld.so.conf\n",
            "drwxr-xr-x 1 root root    4096 Sep  5 18:05 ld.so.conf.d\n",
            "-rw-r--r-- 1 root root     267 Oct 15  2021 legal\n",
            "-rw-r--r-- 1 root root     191 Mar 17  2022 libaudit.conf\n",
            "drwxr-xr-x 2 root root    4096 Sep  5 17:43 libibverbs.d\n",
            "drwxr-xr-x 2 root root    4096 Sep  5 17:39 libnl-3\n",
            "drwxr-xr-x 2 root root    4096 Mar 24  2022 libpaper.d\n",
            "-rw-r--r-- 1 root root    2996 May  6 20:34 locale.alias\n",
            "-rw-r--r-- 1 root root    9456 Sep  5 17:43 locale.gen\n",
            "lrwxrwxrwx 1 root root      27 Sep  5 17:39 localtime -> /usr/share/zoneinfo/Etc/UTC\n",
            "drwxr-xr-x 3 root root    4096 Nov 10  2023 logcheck\n",
            "-rw-r--r-- 1 root root   10734 Nov 11  2021 login.defs\n",
            "drwxr-xr-x 1 root root    4096 Sep  5 17:38 logrotate.d\n",
            "-rw-r--r-- 1 root root     104 Aug  2  2023 lsb-release\n",
            "-rw-r--r-- 1 root root      33 Sep  5 17:37 machine-id\n",
            "-rw-r--r-- 1 root root     111 Sep 11  2023 magic\n",
            "-rw-r--r-- 1 root root     111 Sep 11  2023 magic.mime\n",
            "-rw-r--r-- 1 root root    5217 Mar 17  2022 manpath.config\n",
            "-rw-r--r-- 1 root root   72029 Mar 21  2022 mime.types\n",
            "-rw-r--r-- 1 root root     744 Jan  8  2022 mke2fs.conf\n",
            "drwxr-xr-x 2 root root    4096 Sep  5 17:43 modprobe.d\n",
            "-rw-r--r-- 1 root root     195 Sep  5 17:43 modules\n",
            "drwxr-xr-x 2 root root    4096 Sep  5 17:37 modules-load.d\n",
            "lrwxrwxrwx 1 root root      12 Sep  8 07:10 mtab -> /proc/mounts\n",
            "drwxr-xr-x 3 root root    4096 Sep  5 17:43 mysql\n",
            "-rw-r--r-- 1 root root     767 Mar 24  2022 netconfig\n",
            "-rw-r--r-- 1 root root      91 Oct 15  2021 networks\n",
            "-rw-r--r-- 1 root root     494 Dec 16  2020 nsswitch.conf\n",
            "drwxr-xr-x 2 root root    4096 Mar 21 11:18 ODBCDataSources\n",
            "-rw-r--r-- 1 root root       0 Mar 21 11:18 odbc.ini\n",
            "-rw-r--r-- 1 root root       0 Sep  5 17:43 odbcinst.ini\n",
            "drwxr-xr-x 2 root root    4096 Sep  5 17:43 openal\n",
            "drwxr-xr-x 2 root root    4096 Sep  5 17:43 openmpi\n",
            "drwxr-xr-x 2 root root    4096 Oct  4  2023 opt\n",
            "lrwxrwxrwx 1 root root      21 Aug  2  2023 os-release -> ../usr/lib/os-release\n",
            "drwxr-xr-x 2 root root    4096 Sep  5 17:37 PackageKit\n",
            "-rw-r--r-- 1 root root     552 Aug 12  2020 pam.conf\n",
            "drwxr-xr-x 1 root root    4096 Sep  5 17:43 pam.d\n",
            "-rw-r--r-- 1 root root       3 Sep  5 17:39 papersize\n",
            "-rw-r--r-- 1 root root    1139 Sep  5 17:37 passwd\n",
            "-rw-r--r-- 1 root root    1139 Sep  5 17:37 passwd-\n",
            "drwxr-xr-x 3 root root    4096 Nov 10  2023 perl\n",
            "-r-xr-xr-x 1 root root     357 Jan  1  2000 pip.conf\n",
            "drwxr-xr-x 4 root root    4096 Sep  5 17:37 polkit-1\n",
            "-rw-r--r-- 1 root root     582 Oct 15  2021 profile\n",
            "drwxr-xr-x 2 root root    4096 Oct  4  2023 profile.d\n",
            "drwxr-xr-x 3 root root    4096 Sep  5 17:43 pulse\n",
            "drwxr-xr-x 2 root root    4096 Sep  5 17:37 python3\n",
            "drwxr-xr-x 2 root root    4096 Sep  5 17:37 python3.10\n",
            "drwxr-xr-x 1 root root    4096 Sep  5 17:39 R\n",
            "drwxr-xr-x 1 root root    4096 Sep  5 17:39 rc0.d\n",
            "drwxr-xr-x 1 root root    4096 Sep  5 17:39 rc1.d\n",
            "drwxr-xr-x 1 root root    4096 Sep  5 17:39 rc2.d\n",
            "drwxr-xr-x 1 root root    4096 Sep  5 17:39 rc3.d\n",
            "drwxr-xr-x 1 root root    4096 Sep  5 17:39 rc4.d\n",
            "drwxr-xr-x 1 root root    4096 Sep  5 17:39 rc5.d\n",
            "drwxr-xr-x 1 root root    4096 Sep  5 17:39 rc6.d\n",
            "drwxr-xr-x 1 root root    4096 Sep  5 17:43 rcS.d\n",
            "-r-xr-xr-x 1 root root   47112 Sep  5 18:02 requirements3.txt\n",
            "-r-xr-xr-x 1 root root    1233 Sep  5 18:02 requirements.core.in\n",
            "-r-xr-xr-x 1 root root    5160 Sep  5 18:02 requirements.in\n",
            "-r-xr-xr-x 1 root root    1637 Sep  5 18:02 requirements.user.in\n",
            "-rw-r--r-- 1 root root     144 Sep  8 07:10 resolv.conf\n",
            "lrwxrwxrwx 1 root root      13 Feb 15  2023 rmt -> /usr/sbin/rmt\n",
            "drwxr-xr-x 4 root root    4096 Oct  4  2023 security\n",
            "drwxr-xr-x 2 root root    4096 Oct  4  2023 selinux\n",
            "-rw-r--r-- 1 root root   10593 Mar 31  2022 sensors3.conf\n",
            "drwxr-xr-x 2 root root    4096 Sep  5 17:43 sensors.d\n",
            "-rw-r----- 1 root shadow   607 Sep  5 17:37 shadow\n",
            "-rw-r----- 1 root shadow   607 Sep  5 17:37 shadow-\n",
            "-rw-r--r-- 1 root root     142 Sep  5 17:39 shells\n",
            "drwxr-xr-x 2 root root    4096 Oct  4  2023 skel\n",
            "drwxr-xr-x 3 root root    4096 Sep  5 17:39 ssh\n",
            "drwxr-xr-x 1 root root    4096 Nov 10  2023 ssl\n",
            "-rw-r--r-- 1 root root       0 Oct  4  2023 subgid\n",
            "-rw-r--r-- 1 root root       0 Oct  4  2023 subuid\n",
            "-rw-r--r-- 1 root root    4573 Apr  3  2023 sudo.conf\n",
            "-r--r----- 1 root root    1671 Aug  3  2022 sudoers\n",
            "drwxr-xr-x 2 root root    4096 Sep  5 17:43 sudoers.d\n",
            "-rw-r--r-- 1 root root    9390 Apr  3  2023 sudo_logsrvd.conf\n",
            "-rw-r--r-- 1 root root    2355 Feb 25  2022 sysctl.conf\n",
            "drwxr-xr-x 1 root root    4096 Sep  5 17:37 sysctl.d\n",
            "drwxr-xr-x 1 root root    4096 Sep  5 17:37 systemd\n",
            "drwxr-xr-x 2 root root    4096 Oct  4  2023 terminfo\n",
            "-rw-r--r-- 1 root root       8 Sep  5 17:39 timezone\n",
            "drwxr-xr-x 2 root root    4096 Nov 21  2023 tmpfiles.d\n",
            "-rw-r--r-- 1 root root    1260 Jun 16  2020 ucf.conf\n",
            "drwxr-xr-x 2 root root    4096 Oct  4  2023 update-motd.d\n",
            "-rw-r--r-- 1 root root      51 Apr  9  2020 vdpau_wrapper.cfg\n",
            "drwxr-xr-x 2 root root    4096 Sep  5 17:39 vim\n",
            "-rw-r--r-- 1 root root    4942 Jun 19 12:15 wgetrc\n",
            "drwxr-xr-x 1 root root    4096 Sep  5 17:42 X11\n",
            "-rw-r--r-- 1 root root     681 Mar 23  2022 xattr.conf\n",
            "drwxr-xr-x 3 root root    4096 Sep  5 17:37 xdg\n"
          ]
        }
      ]
    },
    {
      "cell_type": "markdown",
      "source": [
        "#### /home 또는 /Users\n",
        "- 사용자의 홈 디렉토리는 사용자의 모든 파일을 저장해 놓는 곳\n",
        "- 사실 맥 OS에도 /home 디렉토리가 있기는 한데요. 이 디렉토리는 사용되지 않습니다. 안을 확인해 보셔도 아무 파일도 없을 거에요."
      ],
      "metadata": {
        "id": "mJKx8C_ror-V"
      }
    },
    {
      "cell_type": "code",
      "source": [
        "!ls -l /home"
      ],
      "metadata": {
        "colab": {
          "base_uri": "https://localhost:8080/"
        },
        "id": "RS024e3MpFqi",
        "outputId": "4f5bd851-2f7a-4ffa-efda-25c47e4e463e"
      },
      "execution_count": null,
      "outputs": [
        {
          "output_type": "stream",
          "name": "stdout",
          "text": [
            "total 0\n"
          ]
        }
      ]
    },
    {
      "cell_type": "code",
      "source": [
        "!ls -l /root"
      ],
      "metadata": {
        "colab": {
          "base_uri": "https://localhost:8080/"
        },
        "id": "ag0tls2ZpHeo",
        "outputId": "9a11370b-74b0-4f84-d5bc-b090eacdbee7"
      },
      "execution_count": null,
      "outputs": [
        {
          "output_type": "stream",
          "name": "stdout",
          "text": [
            "total 0\n"
          ]
        }
      ]
    },
    {
      "cell_type": "markdown",
      "source": [
        "#### /usr\n",
        "- 사용자에게 필요한 파일 저장\n",
        "- /usr 안에도 각종 binary(프로그램 파일)를 저장하고 있는 bin 디렉토리가 있음\n",
        "- /bin에는 컴퓨터가 시작하거나 자신을 수리하기 위해서 꼭 필요한 커맨드\n",
        "- /usr/bin에는 컴퓨터가 필요하기보다는 사용자가 필요한 커맨드들이 있습니다.\\\n",
        "- 그리고 /usr 안에는 local이라는 디렉토리도 있는데요. 여기에는 사용자가 직접 설치한 프로그램과 관련된 파일들이 있습니다."
      ],
      "metadata": {
        "id": "q6n10J_MpPR5"
      }
    },
    {
      "cell_type": "code",
      "source": [
        "!ls -l /usr"
      ],
      "metadata": {
        "colab": {
          "base_uri": "https://localhost:8080/"
        },
        "id": "xBuNrYrJpKbO",
        "outputId": "dfcff4d1-e549-4342-da6b-e5b6aef5f645"
      },
      "execution_count": null,
      "outputs": [
        {
          "output_type": "stream",
          "name": "stdout",
          "text": [
            "total 76\n",
            "drwxr-xr-x 1 root root 20480 Sep  5 17:43 bin\n",
            "drwxr-xr-x 1 root root  4096 Sep  5 18:07 colab\n",
            "drwxr-xr-x 2 root root  4096 Apr 18  2022 games\n",
            "drwxr-xr-x 3 root root  4096 Sep  5 17:44 grte\n",
            "drwxr-xr-x 1 root root  4096 Sep  5 17:43 include\n",
            "drwxr-xr-x 1 root root  4096 Sep  5 17:43 lib\n",
            "drwxr-xr-x 1 root root  4096 Sep  5 17:38 lib32\n",
            "drwxr-xr-x 1 root root  4096 Sep  5 17:38 lib64\n",
            "drwxr-xr-x 1 root root  4096 Sep  5 17:42 libexec\n",
            "drwxr-xr-x 2 root root  4096 Oct  4  2023 libx32\n",
            "drwxr-xr-x 1 root root  4096 Sep  5 18:07 local\n",
            "drwxr-xr-x 1 root root  4096 Sep  8 07:10 sbin\n",
            "drwxr-xr-x 1 root root  4096 Sep  5 17:43 share\n",
            "drwxr-xr-x 1 root root  4096 Sep  5 17:43 src\n"
          ]
        }
      ]
    },
    {
      "cell_type": "code",
      "source": [
        "!cat /proc/cpuinfo"
      ],
      "metadata": {
        "id": "_cjgJlMeev-0"
      },
      "execution_count": null,
      "outputs": []
    },
    {
      "cell_type": "code",
      "source": [
        "!cat /proc/meminfo\n",
        "!free -h"
      ],
      "metadata": {
        "id": "PF4tPz8pe1ng"
      },
      "execution_count": null,
      "outputs": []
    },
    {
      "cell_type": "code",
      "source": [
        "!df -h"
      ],
      "metadata": {
        "id": "bnB0MrVIe3VX"
      },
      "execution_count": null,
      "outputs": []
    },
    {
      "cell_type": "code",
      "source": [
        "!nvidia-smi"
      ],
      "metadata": {
        "id": "15t2zToEe5NV"
      },
      "execution_count": null,
      "outputs": []
    },
    {
      "cell_type": "markdown",
      "source": [
        "### 디렉토리와 파일 만들기\n",
        "- mkdir\n",
        "- touch"
      ],
      "metadata": {
        "id": "ji5OiGmZpMaI"
      }
    },
    {
      "cell_type": "code",
      "source": [
        "# 파일,폴더 이름은 공백없이\n",
        "\n",
        "# 절대 경로\n",
        "!mkdir ~/unix_practice"
      ],
      "metadata": {
        "colab": {
          "base_uri": "https://localhost:8080/"
        },
        "id": "wf2OWS6KrL2x",
        "outputId": "b22f76b6-c846-4223-aa88-f047a67e5d1a"
      },
      "execution_count": null,
      "outputs": [
        {
          "output_type": "stream",
          "name": "stdout",
          "text": [
            "mkdir: cannot create directory ‘/root/unix_practice’: File exists\n"
          ]
        }
      ]
    },
    {
      "cell_type": "code",
      "source": [
        "# 상대 경로\n",
        "!mkdir unix_practice"
      ],
      "metadata": {
        "colab": {
          "base_uri": "https://localhost:8080/"
        },
        "id": "uXDMQaMWrj2s",
        "outputId": "ac67eb73-f22d-437f-e0fe-9cc9c601e22c"
      },
      "execution_count": null,
      "outputs": [
        {
          "output_type": "stream",
          "name": "stdout",
          "text": [
            "mkdir: cannot create directory ‘unix_practice’: File exists\n"
          ]
        }
      ]
    },
    {
      "cell_type": "code",
      "source": [
        "!ls"
      ],
      "metadata": {
        "colab": {
          "base_uri": "https://localhost:8080/"
        },
        "id": "83tHp89Krcf5",
        "outputId": "18201acf-eff1-40f6-eea6-cee101f26c2d"
      },
      "execution_count": null,
      "outputs": [
        {
          "output_type": "stream",
          "name": "stdout",
          "text": [
            "sample_data  unix_practice\n"
          ]
        }
      ]
    },
    {
      "cell_type": "code",
      "source": [
        "!pwd"
      ],
      "metadata": {
        "colab": {
          "base_uri": "https://localhost:8080/"
        },
        "id": "HcPxRzevrdMN",
        "outputId": "ee4d1f97-c0d5-4fdf-f448-c9a931c220ab"
      },
      "execution_count": null,
      "outputs": [
        {
          "output_type": "stream",
          "name": "stdout",
          "text": [
            "/content\n"
          ]
        }
      ]
    },
    {
      "cell_type": "code",
      "source": [
        "%cd unix_practice\n",
        "!mkdir reports"
      ],
      "metadata": {
        "colab": {
          "base_uri": "https://localhost:8080/"
        },
        "id": "CqRc65PhrtYD",
        "outputId": "fb4907b0-e12b-4999-fc0c-80c517ae7eaa"
      },
      "execution_count": null,
      "outputs": [
        {
          "output_type": "stream",
          "name": "stdout",
          "text": [
            "/content/unix_practice\n"
          ]
        }
      ]
    },
    {
      "cell_type": "code",
      "source": [
        "!pwd"
      ],
      "metadata": {
        "colab": {
          "base_uri": "https://localhost:8080/"
        },
        "id": "b5b6T64GsGBL",
        "outputId": "c1159158-bf13-44ef-8a0f-2af2710615b3"
      },
      "execution_count": null,
      "outputs": [
        {
          "output_type": "stream",
          "name": "stdout",
          "text": [
            "/content/unix_practice\n"
          ]
        }
      ]
    },
    {
      "cell_type": "code",
      "source": [
        "!ls"
      ],
      "metadata": {
        "colab": {
          "base_uri": "https://localhost:8080/"
        },
        "id": "EFft9_kAr-YG",
        "outputId": "0acb43c7-e0ff-4890-c6f2-767dd19b544c"
      },
      "execution_count": null,
      "outputs": [
        {
          "output_type": "stream",
          "name": "stdout",
          "text": [
            "reports\n"
          ]
        }
      ]
    },
    {
      "cell_type": "code",
      "source": [
        "%cd reports/"
      ],
      "metadata": {
        "colab": {
          "base_uri": "https://localhost:8080/"
        },
        "id": "aLFLnwfLr-8m",
        "outputId": "332fb8fd-78b8-47e5-901f-7dcb3bc089b5"
      },
      "execution_count": null,
      "outputs": [
        {
          "output_type": "stream",
          "name": "stdout",
          "text": [
            "/content/unix_practice/reports\n"
          ]
        }
      ]
    },
    {
      "cell_type": "code",
      "source": [
        "!mkdir Sep"
      ],
      "metadata": {
        "id": "7eExKcHUsUXD"
      },
      "execution_count": null,
      "outputs": []
    },
    {
      "cell_type": "code",
      "source": [
        "!ls"
      ],
      "metadata": {
        "colab": {
          "base_uri": "https://localhost:8080/"
        },
        "id": "UPH9NZxfsU9-",
        "outputId": "d2753492-cd8a-4b14-a6c4-845834e59be7"
      },
      "execution_count": null,
      "outputs": [
        {
          "output_type": "stream",
          "name": "stdout",
          "text": [
            "Sep\n"
          ]
        }
      ]
    },
    {
      "cell_type": "code",
      "source": [
        "!mkdir Jul Aug"
      ],
      "metadata": {
        "id": "cfMZMfaPsVUe"
      },
      "execution_count": null,
      "outputs": []
    },
    {
      "cell_type": "code",
      "source": [
        "!ls"
      ],
      "metadata": {
        "colab": {
          "base_uri": "https://localhost:8080/"
        },
        "id": "RHTjueJ4sXue",
        "outputId": "a1c47763-efda-436b-ae88-86f8385e5297"
      },
      "execution_count": null,
      "outputs": [
        {
          "output_type": "stream",
          "name": "stdout",
          "text": [
            "Aug  Jul  Sep\n"
          ]
        }
      ]
    },
    {
      "cell_type": "code",
      "source": [
        "# 파일 생성\n",
        "# 파일과 폴더 구분 주의\n",
        "%cd Sep"
      ],
      "metadata": {
        "colab": {
          "base_uri": "https://localhost:8080/"
        },
        "id": "QLd6xNE_sYGs",
        "outputId": "0ea878f6-78b5-41e8-b2d6-82eb94b83125"
      },
      "execution_count": null,
      "outputs": [
        {
          "output_type": "stream",
          "name": "stdout",
          "text": [
            "/content/unix_practice/reports/Sep\n"
          ]
        }
      ]
    },
    {
      "cell_type": "code",
      "source": [
        "!touch finances.txt performance.txt"
      ],
      "metadata": {
        "id": "CMrowIuQshh3"
      },
      "execution_count": null,
      "outputs": []
    },
    {
      "cell_type": "code",
      "source": [
        "!ls"
      ],
      "metadata": {
        "colab": {
          "base_uri": "https://localhost:8080/"
        },
        "id": "yOdghlDxsjnZ",
        "outputId": "70c033b9-0c6b-4f15-c90d-4f9e583c2230"
      },
      "execution_count": null,
      "outputs": [
        {
          "output_type": "stream",
          "name": "stdout",
          "text": [
            "finances.txt  performance.txt\n"
          ]
        }
      ]
    },
    {
      "cell_type": "code",
      "source": [
        "%cd .."
      ],
      "metadata": {
        "colab": {
          "base_uri": "https://localhost:8080/"
        },
        "id": "zXD5t9i9sj0g",
        "outputId": "8397252e-f976-434a-a2de-f44724524a9b"
      },
      "execution_count": null,
      "outputs": [
        {
          "output_type": "stream",
          "name": "stdout",
          "text": [
            "/content/unix_practice/reports\n"
          ]
        }
      ]
    },
    {
      "cell_type": "code",
      "source": [
        "!ls"
      ],
      "metadata": {
        "colab": {
          "base_uri": "https://localhost:8080/"
        },
        "id": "VaRDWe0rskcC",
        "outputId": "a0ac1281-d8a6-4786-8aff-5b85a9c12ee7"
      },
      "execution_count": null,
      "outputs": [
        {
          "output_type": "stream",
          "name": "stdout",
          "text": [
            "Aug  Jul  Sep\n"
          ]
        }
      ]
    },
    {
      "cell_type": "code",
      "source": [
        "!touch Aug/finances.txt Aug/performance.txt"
      ],
      "metadata": {
        "id": "qXizXy_vslor"
      },
      "execution_count": null,
      "outputs": []
    },
    {
      "cell_type": "code",
      "source": [
        "!ls Aug"
      ],
      "metadata": {
        "colab": {
          "base_uri": "https://localhost:8080/"
        },
        "id": "OKlczacGsrGz",
        "outputId": "3b45be91-20bd-4453-aa09-77684d0a7b47"
      },
      "execution_count": null,
      "outputs": [
        {
          "output_type": "stream",
          "name": "stdout",
          "text": [
            "finances.txt  performance.txt\n"
          ]
        }
      ]
    },
    {
      "cell_type": "code",
      "source": [
        "!touch Jul/finances.txt Jul/performance.txt"
      ],
      "metadata": {
        "id": "JZJYoWRxsrnB"
      },
      "execution_count": null,
      "outputs": []
    },
    {
      "cell_type": "code",
      "source": [
        "!ls Jul"
      ],
      "metadata": {
        "colab": {
          "base_uri": "https://localhost:8080/"
        },
        "id": "9LKC2yoPs2gW",
        "outputId": "d769332d-3942-4778-9195-beb0cbb641e3"
      },
      "execution_count": null,
      "outputs": [
        {
          "output_type": "stream",
          "name": "stdout",
          "text": [
            "finances.txt  performance.txt\n"
          ]
        }
      ]
    },
    {
      "cell_type": "markdown",
      "source": [
        "### Vim\n",
        "- [vim 사용법 정리](https://www.codeit.kr/topics/practical-unix-commands/lessons/4911)\n",
        "- GUI 환경: vscdoe, pycharm, sublime, 메모장\n",
        "- CLI 환경: vim"
      ],
      "metadata": {
        "id": "ZJU7QeIes4BP"
      }
    },
    {
      "cell_type": "markdown",
      "source": [
        "### Vim 4가지 사용 모드\n",
        "- `vim` 또는 `vi`\n",
        "- normal\n",
        "    - `p`: 붙여넣기\n",
        "    - `yy`: 복사하기\n",
        "    - `dd`: 한 줄 삭제\n",
        "- insert: `i`\n",
        "- visual\n",
        "    - 텍스트를 블록으로 선택할 수 있는 기능을 담당\n",
        "    - `v`: 한 글자씩 선택\n",
        "    - `V`: 한 줄씩 선택\n",
        "    - `y`: 지정된 부분 복사\n",
        "    - `d`: 지정된 부분 삭제\n",
        "\n",
        "- command: `:`\n",
        "    - `w`: write 저장\n",
        "        - 파일 이름 작성 후 저장\n",
        "        - `:w hello_world.txt`\n",
        "    - `q`: quit 종료\n",
        "    - `q!`: 저장하고 하고 종료\n",
        "    - `:wq`: 저장하고 종료"
      ],
      "metadata": {
        "id": "c-fr8e7TtAUA"
      }
    },
    {
      "cell_type": "markdown",
      "source": [
        "### 파일 내용 살펴보기\n",
        "- cat\n",
        "    - concatenate\n",
        "- less\n",
        "- head\n",
        "- tail"
      ],
      "metadata": {
        "id": "IEdI7W31tQ27"
      }
    },
    {
      "cell_type": "markdown",
      "source": [
        "#### cat\n",
        "- 모든 파일 내용을 출력"
      ],
      "metadata": {
        "id": "mPVUFUUf5hv2"
      }
    },
    {
      "cell_type": "code",
      "source": [
        "%cd /content/"
      ],
      "metadata": {
        "colab": {
          "base_uri": "https://localhost:8080/"
        },
        "id": "icWSvOaZ3dw6",
        "outputId": "3108675f-b5e2-4732-9ec3-51597b6bbb21"
      },
      "execution_count": null,
      "outputs": [
        {
          "output_type": "stream",
          "name": "stdout",
          "text": [
            "/content\n"
          ]
        }
      ]
    },
    {
      "cell_type": "code",
      "source": [
        "!ls"
      ],
      "metadata": {
        "colab": {
          "base_uri": "https://localhost:8080/"
        },
        "id": "rF8L-PH93flL",
        "outputId": "b7a182b2-d70c-46f5-add9-6d69aee49649"
      },
      "execution_count": null,
      "outputs": [
        {
          "output_type": "stream",
          "name": "stdout",
          "text": [
            "music  reports\tsample_data  unix_practice\n"
          ]
        }
      ]
    },
    {
      "cell_type": "code",
      "source": [
        "!mkdir music"
      ],
      "metadata": {
        "id": "gTu7KGh13TPU"
      },
      "execution_count": null,
      "outputs": []
    },
    {
      "cell_type": "code",
      "source": [],
      "metadata": {
        "id": "KmBQcQGckpz4"
      },
      "execution_count": null,
      "outputs": []
    },
    {
      "cell_type": "code",
      "source": [
        "!ls"
      ],
      "metadata": {
        "colab": {
          "base_uri": "https://localhost:8080/"
        },
        "id": "586FiIHJ4VbA",
        "outputId": "433f1592-bd7f-47a1-9438-7db1c5ceaf68"
      },
      "execution_count": null,
      "outputs": [
        {
          "output_type": "stream",
          "name": "stdout",
          "text": [
            "music  reports\tsample_data  unix_practice\n"
          ]
        }
      ]
    },
    {
      "cell_type": "code",
      "source": [
        "!mv bohemian_rhapsody.txt music/"
      ],
      "metadata": {
        "id": "nOOznHFO30fL"
      },
      "execution_count": null,
      "outputs": []
    },
    {
      "cell_type": "code",
      "source": [
        "!mv killer_queen.txt music/"
      ],
      "metadata": {
        "id": "ln8LK42y4kk5"
      },
      "execution_count": null,
      "outputs": []
    },
    {
      "cell_type": "code",
      "source": [
        "!ls music/"
      ],
      "metadata": {
        "colab": {
          "base_uri": "https://localhost:8080/"
        },
        "id": "6U_tD8CS4mcA",
        "outputId": "3ef9b8c1-d947-4edd-e6a5-f55b52165929"
      },
      "execution_count": null,
      "outputs": [
        {
          "output_type": "stream",
          "name": "stdout",
          "text": [
            "bohemian_rhapsody.txt  killer_queen.txt\n"
          ]
        }
      ]
    },
    {
      "cell_type": "code",
      "source": [
        "%cd music/"
      ],
      "metadata": {
        "colab": {
          "base_uri": "https://localhost:8080/"
        },
        "id": "w4uuZUI74qxi",
        "outputId": "39af2c12-f2a7-469d-e15e-59a37f758cf4"
      },
      "execution_count": null,
      "outputs": [
        {
          "output_type": "stream",
          "name": "stdout",
          "text": [
            "/content/music\n"
          ]
        }
      ]
    },
    {
      "cell_type": "code",
      "source": [
        "!cat bohemian_rhapsody.txt killer_queen.txt"
      ],
      "metadata": {
        "colab": {
          "base_uri": "https://localhost:8080/"
        },
        "collapsed": true,
        "id": "xaM5oZVJ4v10",
        "outputId": "b1bf025c-6cf4-4a28-8e59-9481220e240f"
      },
      "execution_count": null,
      "outputs": [
        {
          "output_type": "stream",
          "name": "stdout",
          "text": [
            "     1\tIs this the real life?\n",
            "     2\tIs this just fantasy?\n",
            "     3\tCaught in a landside,\n",
            "     4\tNo escape from reality\n",
            "     5\tOpen your eyes,\n",
            "     6\tLook up to the skies and see,\n",
            "     7\tI'm just a poor boy, I need no sympathy,\n",
            "     8\tBecause I'm easy come, easy go,\n",
            "     9\tLittle high, little low,\n",
            "    10\tAny way the wind blows doesn't really matter to\n",
            "    11\tMe, to me\n",
            "    12\tMamaaa,\n",
            "    13\tJust killed a man,\n",
            "    14\tPut a gun against his head, pulled my trigger,\n",
            "    15\tNow he's dead\n",
            "    16\tMamaaa, life had just begun,\n",
            "    17\tBut now I've gone and thrown it all away\n",
            "    18\tMama, oooh,\n",
            "    19\tDidn't mean to make you cry,\n",
            "    20\tIf I'm not back again this time tomorrow,\n",
            "    21\tCarry on, carry on as if nothing really matters\n",
            "    22\tToo late, my time has come,\n",
            "    23\tSends shivers down my spine, body's aching all\n",
            "    24\tThe time\n",
            "    25\tGoodbye, everybody, I've got to go,\n",
            "    26\tGotta leave you all behind and face the truth\n",
            "    27\tMama, oooh\n",
            "    28\tI don't want to die,\n",
            "    29\tI sometimes wish I'd never been born at all.\n",
            "    30\tI see a little silhouetto of a man,\n",
            "    31\tScaramouch, Scaramouch, will you do the Fandango!\n",
            "    32\tThunderbolts and lightning, very, very frightening me\n",
            "    33\tGalileo, Galileo\n",
            "    34\tGalileo, Galileo\n",
            "    35\tGalileo, Figaro - magnificoo\n",
            "    36\tI'm just a poor boy nobody loves me\n",
            "    37\tHe's just a poor boy from a poor family,\n",
            "    38\tSpare him his life from this monstrosity\n",
            "    39\tEasy come, easy go, will you let me go\n",
            "    40\tBismillah! No, we will not let you go\n",
            "    41\t(Let him go!) Bismillah! We will not let you go\n",
            "    42\t(Let him go!) Bismillah! We will not let you go\n",
            "    43\t(Let me go) Will not let you go\n",
            "    44\t(Let me go)(Never) Never let you go\n",
            "    45\t(Let me go) (Never) let you go (Let me go) Ah\n",
            "    46\tNo, no, no, no, no, no, no\n",
            "    47\tOh mama mia, mama mia, mama mia, let me go\n",
            "    48\tBeelzebub has a devil put aside for me, for me,\n",
            "    49\tFor meee\n",
            "    50\tSo you think you can stop me and spit in my eye\n",
            "    51\tSo you think you can love me and leave me to die\n",
            "    52\tOh, baby, can't do this to me, baby,\n",
            "    53\tJust gotta get out, just gotta get right outta here\n",
            "    54\tNothing really matters, Anyone can see,\n",
            "    55\tNothing really matters,\n",
            "    56\tNothing really matters to me\n",
            "    57\tAny way the wind blows...     1\tShe keeps her Moet et Chandon\n",
            "     2\tIn her pretty cabinet\n",
            "     3\t\"Let them eat cake\", she says\n",
            "     4\tJust like Marie Antoinette\n",
            "     5\tA built-in remedy\n",
            "     6\tFor Khrushchev and Kennedy\n",
            "     7\tAt anytime an invitation\n",
            "     8\tYou can't decline\n",
            "     9\tCaviar and cigarettes\n",
            "    10\tWell versed in etiquette\n",
            "    11\tExtraordinarily nice\n",
            "    12\tShe's a Killer Queen\n",
            "    13\tGunpowder, gelatine\n",
            "    14\tDynamite with a laser beam\n",
            "    15\tGuaranteed to blow your mind\n",
            "    16\tAnytime\n",
            "    17\tRecommended at the price\n",
            "    18\tInsatiable an appetite\n",
            "    19\tWanna try?\n",
            "    20\tTo avoid complications\n",
            "    21\tShe never kept the same address\n",
            "    22\tIn conversation\n",
            "    23\tShe spoke just like a baroness\n",
            "    24\tMet a man from China\n",
            "    25\tWent down to Geisha Minah\n",
            "    26\tThen again incidentally\n",
            "    27\tIf you're that way inclined\n",
            "    28\tPerfume came naturally from Paris (naturally)\n",
            "    29\tFor cars she couldn't care less\n",
            "    30\tFastidious and precise\n",
            "    31\tShe's a Killer Queen\n",
            "    32\tGunpowder, gelatine\n",
            "    33\tDynamite with a laser beam\n",
            "    34\tGuaranteed to blow your mind\n",
            "    35\tAnytime\n",
            "    36\tDrop of a hat she's as willing as\n",
            "    37\tPlayful as a pussy cat\n",
            "    38\tThen momentarily out of action\n",
            "    39\tTemporarily out of gas\n",
            "    40\tTo absolutely drive you wild, wild\n",
            "    41\tShe's all out to get you\n",
            "    42\tShe's a Killer Queen\n",
            "    43\tGunpowder, gelatine\n",
            "    44\tDynamite with a laser beam\n",
            "    45\tGuaranteed to blow your mind\n",
            "    46\tAnytime\n",
            "    47\tRecommended at the price\n",
            "    48\tInsatiable an appetite\n",
            "    49\tWanna try?\n",
            "    50\tYou wanna try"
          ]
        }
      ]
    },
    {
      "cell_type": "markdown",
      "source": [
        "#### less\n",
        "- 파일 내용을 페이지 단위로 나누어서 출력\n",
        "- 터미널에서 이동키\n",
        "    - 위아래\n",
        "    - 스페이스, f\n",
        "    - b: 이전으로 이동\n",
        "    - g: 처음 시작으로 이동\n",
        "    - G: 마지막 페이지로 이동\n",
        "    - q: 종료\n",
        "    "
      ],
      "metadata": {
        "id": "SQGBytKM5da1"
      }
    },
    {
      "cell_type": "code",
      "source": [
        "!less bohemian_rhapsody.txt"
      ],
      "metadata": {
        "id": "VjebZuaT6kAG"
      },
      "execution_count": null,
      "outputs": []
    },
    {
      "cell_type": "markdown",
      "source": [
        "### head, tail"
      ],
      "metadata": {
        "id": "YGB5RUMn6FHu"
      }
    },
    {
      "cell_type": "code",
      "source": [
        "# 상단 10개 내용 출력\n",
        "!head bohemian_rhapsody.txt"
      ],
      "metadata": {
        "colab": {
          "base_uri": "https://localhost:8080/"
        },
        "id": "54QOy0XF6ZRW",
        "outputId": "3715df90-d2e5-4f7a-cd48-f6c400eb4ea6"
      },
      "execution_count": null,
      "outputs": [
        {
          "output_type": "stream",
          "name": "stdout",
          "text": [
            "     1\tIs this the real life?\n",
            "     2\tIs this just fantasy?\n",
            "     3\tCaught in a landside,\n",
            "     4\tNo escape from reality\n",
            "     5\tOpen your eyes,\n",
            "     6\tLook up to the skies and see,\n",
            "     7\tI'm just a poor boy, I need no sympathy,\n",
            "     8\tBecause I'm easy come, easy go,\n",
            "     9\tLittle high, little low,\n",
            "    10\tAny way the wind blows doesn't really matter to\n"
          ]
        }
      ]
    },
    {
      "cell_type": "code",
      "source": [
        "# 하단 10개 내용 출력\n",
        "!tail bohemian_rhapsody.txt"
      ],
      "metadata": {
        "colab": {
          "base_uri": "https://localhost:8080/"
        },
        "id": "4yY7agdF6tnS",
        "outputId": "0c1ba77e-aed7-4312-af95-fe474b5dd3b4"
      },
      "execution_count": null,
      "outputs": [
        {
          "output_type": "stream",
          "name": "stdout",
          "text": [
            "    48\tBeelzebub has a devil put aside for me, for me,\n",
            "    49\tFor meee\n",
            "    50\tSo you think you can stop me and spit in my eye\n",
            "    51\tSo you think you can love me and leave me to die\n",
            "    52\tOh, baby, can't do this to me, baby,\n",
            "    53\tJust gotta get out, just gotta get right outta here\n",
            "    54\tNothing really matters, Anyone can see,\n",
            "    55\tNothing really matters,\n",
            "    56\tNothing really matters to me\n",
            "    57\tAny way the wind blows..."
          ]
        }
      ]
    },
    {
      "cell_type": "code",
      "source": [
        "# 상단 5개 내용 출력\n",
        "!head -n 5 bohemian_rhapsody.txt"
      ],
      "metadata": {
        "colab": {
          "base_uri": "https://localhost:8080/"
        },
        "id": "0jI6KOsE64yz",
        "outputId": "7f0188ef-8214-4159-fedd-6b4102591ac2"
      },
      "execution_count": null,
      "outputs": [
        {
          "output_type": "stream",
          "name": "stdout",
          "text": [
            "     1\tIs this the real life?\n",
            "     2\tIs this just fantasy?\n",
            "     3\tCaught in a landside,\n",
            "     4\tNo escape from reality\n",
            "     5\tOpen your eyes,\n"
          ]
        }
      ]
    },
    {
      "cell_type": "code",
      "source": [
        "# 하단 5개 내용 출력\n",
        "!tail -n 5 bohemian_rhapsody.txt"
      ],
      "metadata": {
        "colab": {
          "base_uri": "https://localhost:8080/"
        },
        "id": "YlrJffUJ67Vu",
        "outputId": "e6a3be73-62f4-4978-d812-9cb987ef6096"
      },
      "execution_count": null,
      "outputs": [
        {
          "output_type": "stream",
          "name": "stdout",
          "text": [
            "    53\tJust gotta get out, just gotta get right outta here\n",
            "    54\tNothing really matters, Anyone can see,\n",
            "    55\tNothing really matters,\n",
            "    56\tNothing really matters to me\n",
            "    57\tAny way the wind blows..."
          ]
        }
      ]
    },
    {
      "cell_type": "markdown",
      "source": [
        "### 디렉토리와 파일 옮기기, 이름 변경하기\n",
        "- mv\n",
        "    - move\n",
        "- mv path1 path2\n",
        "     - path1 => 작업할 대상의 경로\n",
        "     - path2 => 이동할 목적지 또는 변경할 이름\n",
        "     - path1 파일(폴더)를 path2로 이동(변경)한다\n",
        "     - path2 가 이미 존재하면 이동, 존재하지 않으면 변경"
      ],
      "metadata": {
        "id": "oIL98DFP69x_"
      }
    },
    {
      "cell_type": "code",
      "source": [
        "!mkdir unix_practice\n",
        "!mkdir unix_practice/warning"
      ],
      "metadata": {
        "colab": {
          "base_uri": "https://localhost:8080/"
        },
        "id": "dK5EfFDcZBUR",
        "outputId": "71925248-4311-48a3-b5c1-8e9e43aaa3ca"
      },
      "execution_count": null,
      "outputs": [
        {
          "output_type": "stream",
          "name": "stdout",
          "text": [
            "mkdir: cannot create directory ‘unix_practice’: File exists\n"
          ]
        }
      ]
    },
    {
      "cell_type": "code",
      "source": [
        "!ls unix_practice/"
      ],
      "metadata": {
        "colab": {
          "base_uri": "https://localhost:8080/"
        },
        "id": "Dznv5F6HY-nt",
        "outputId": "98945117-e210-4543-e44b-f0c8a9088236"
      },
      "execution_count": null,
      "outputs": [
        {
          "output_type": "stream",
          "name": "stdout",
          "text": [
            "warning\n"
          ]
        }
      ]
    },
    {
      "cell_type": "code",
      "source": [
        "%cd unix_practice/"
      ],
      "metadata": {
        "colab": {
          "base_uri": "https://localhost:8080/"
        },
        "id": "t_fLBH7Xbr0r",
        "outputId": "42890d4e-9916-4e43-950c-e29069509f5d"
      },
      "execution_count": null,
      "outputs": [
        {
          "output_type": "stream",
          "name": "stdout",
          "text": [
            "[Errno 2] No such file or directory: 'unix_practice/'\n",
            "/content/unix_practice\n"
          ]
        }
      ]
    },
    {
      "cell_type": "code",
      "source": [
        "!ls"
      ],
      "metadata": {
        "colab": {
          "base_uri": "https://localhost:8080/"
        },
        "id": "sXhCi5P1bxUU",
        "outputId": "fb379fa3-ffac-4def-b6d7-9077959408f8"
      },
      "execution_count": null,
      "outputs": [
        {
          "output_type": "stream",
          "name": "stdout",
          "text": [
            "warning\n"
          ]
        }
      ]
    },
    {
      "cell_type": "code",
      "source": [
        "%cd warning"
      ],
      "metadata": {
        "colab": {
          "base_uri": "https://localhost:8080/"
        },
        "id": "qzCyjB1fbxyF",
        "outputId": "f99c5916-85e9-4b06-8bf5-b5fe090e1ce4"
      },
      "execution_count": null,
      "outputs": [
        {
          "output_type": "stream",
          "name": "stdout",
          "text": [
            "/content/unix_practice/warning\n"
          ]
        }
      ]
    },
    {
      "cell_type": "code",
      "source": [
        "!touch test1.txt test2.txt"
      ],
      "metadata": {
        "id": "ko4qIZvlbz-U"
      },
      "execution_count": null,
      "outputs": []
    },
    {
      "cell_type": "code",
      "source": [
        "!ls"
      ],
      "metadata": {
        "colab": {
          "base_uri": "https://localhost:8080/"
        },
        "id": "8KOI1Vcmb18S",
        "outputId": "eef08aa6-602f-4095-c48a-1ff5f6f188b4"
      },
      "execution_count": null,
      "outputs": [
        {
          "output_type": "stream",
          "name": "stdout",
          "text": [
            "test1.txt  test2.txt\n"
          ]
        }
      ]
    },
    {
      "cell_type": "code",
      "source": [
        "!echo 'test file 1' > test1.txt"
      ],
      "metadata": {
        "id": "eZRQYdDnb2Nj"
      },
      "execution_count": null,
      "outputs": []
    },
    {
      "cell_type": "code",
      "source": [],
      "metadata": {
        "id": "BrT-Lbv4Aszk"
      },
      "execution_count": null,
      "outputs": []
    },
    {
      "cell_type": "code",
      "source": [
        "!cat test1.txt"
      ],
      "metadata": {
        "colab": {
          "base_uri": "https://localhost:8080/"
        },
        "id": "222aV38rb4GM",
        "outputId": "e0cf8184-af0f-4297-c44c-3a7510f36785"
      },
      "execution_count": null,
      "outputs": [
        {
          "output_type": "stream",
          "name": "stdout",
          "text": [
            "test file 1\n"
          ]
        }
      ]
    },
    {
      "cell_type": "code",
      "source": [
        "!echo 'test file 2' > test2.txt"
      ],
      "metadata": {
        "id": "tDzsN5b5b-M-"
      },
      "execution_count": null,
      "outputs": []
    },
    {
      "cell_type": "code",
      "source": [
        "!cat test2.txt"
      ],
      "metadata": {
        "colab": {
          "base_uri": "https://localhost:8080/"
        },
        "id": "TSz_GbhgccSA",
        "outputId": "6f231ccc-ba03-4a62-8cd1-25fc9c4f9c95"
      },
      "execution_count": null,
      "outputs": [
        {
          "output_type": "stream",
          "name": "stdout",
          "text": [
            "test file 2\n"
          ]
        }
      ]
    },
    {
      "cell_type": "code",
      "source": [
        "# test2.txt 파일 이름으로 덮어 씌우고, test2.txt 파일은 사라짐\n",
        "!mv test1.txt test2.txt"
      ],
      "metadata": {
        "id": "m84ZRRo5cdLV"
      },
      "execution_count": null,
      "outputs": []
    },
    {
      "cell_type": "code",
      "source": [
        "!ls"
      ],
      "metadata": {
        "colab": {
          "base_uri": "https://localhost:8080/"
        },
        "id": "-WFIz2a7ciGA",
        "outputId": "dec35948-7aef-4418-cfbf-0831e081b44d"
      },
      "execution_count": null,
      "outputs": [
        {
          "output_type": "stream",
          "name": "stdout",
          "text": [
            "test2.txt\n"
          ]
        }
      ]
    },
    {
      "cell_type": "code",
      "source": [
        "!cat test2.txt"
      ],
      "metadata": {
        "colab": {
          "base_uri": "https://localhost:8080/"
        },
        "id": "dY5tNGU_cmL_",
        "outputId": "8f3e4a8f-ec4a-4ed3-f327-b8af36c1b9f6"
      },
      "execution_count": null,
      "outputs": [
        {
          "output_type": "stream",
          "name": "stdout",
          "text": [
            "test file 1\n"
          ]
        }
      ]
    },
    {
      "cell_type": "code",
      "source": [
        "!touch test1.txt"
      ],
      "metadata": {
        "id": "6zWkpwrVcpHz"
      },
      "execution_count": null,
      "outputs": []
    },
    {
      "cell_type": "code",
      "source": [
        "# -i 옵션 : 덮어씌우기 방지\n",
        "!mv -i test1.txt test2.txt"
      ],
      "metadata": {
        "colab": {
          "base_uri": "https://localhost:8080/"
        },
        "id": "Rf-F6pQuc1UI",
        "outputId": "42db9b07-341b-49ef-b0ae-52b07cf16880"
      },
      "execution_count": null,
      "outputs": [
        {
          "output_type": "stream",
          "name": "stdout",
          "text": [
            "mv: overwrite 'test2.txt'? ^C\n"
          ]
        }
      ]
    },
    {
      "cell_type": "markdown",
      "source": [
        "## 디렉토리와 파일 복사 붙여넣기\n",
        "- cp\n",
        "    - copy\n",
        "- cp path1 path2\n",
        "    - path1 => 복사할 대상 파일(폴더)\n",
        "    - path2 => 복사할 위치\n",
        "    - 목적지에 똑같은 파일(폴더) 이름이 있으면 덮어씌움 주의"
      ],
      "metadata": {
        "id": "goSrAeYzc3Dy"
      }
    },
    {
      "cell_type": "code",
      "source": [
        "!mkdir unix_practice\n",
        "!mkdir unix_practice/warning\n",
        "!mkdir unix_practice/reports\n",
        "!mkdir unix_practice/reports/Aug\n",
        "!mkdir unix_practice/reports/Jul\n",
        "!mkdir unix_practice/reports/Oct\n",
        "!mkdir unix_practice/reports/Sep\n",
        "\n",
        "!touch unix_practice/reports/Jul/finances.txt\n",
        "!touch unix_practice/reports/Jul/performance.txt\n",
        "!echo '2024 July Finance Report' > unix_practice/reports/Jul/finances.txt\\\n",
        "!echo '2024 July Performance Report' > unix_practice/reports/Jul/performance.txt"
      ],
      "metadata": {
        "colab": {
          "base_uri": "https://localhost:8080/"
        },
        "id": "AMPhYoONdAnu",
        "outputId": "b8db1515-6fc2-4458-f971-89c39b5df862"
      },
      "execution_count": null,
      "outputs": [
        {
          "output_type": "stream",
          "name": "stdout",
          "text": [
            "mkdir: cannot create directory ‘unix_practice’: File exists\n",
            "mkdir: cannot create directory ‘unix_practice/warning’: File exists\n"
          ]
        }
      ]
    },
    {
      "cell_type": "code",
      "source": [
        "!echo '2024 July Finance Report' > /content/unix_practice/reports/Jul/finances.txt\n",
        "!echo '2024 July Performance Report' > /content/unix_practice/reports/Jul/performance.txt"
      ],
      "metadata": {
        "id": "IqOUmcwEeSqG"
      },
      "execution_count": null,
      "outputs": []
    },
    {
      "cell_type": "code",
      "source": [
        "!pwd"
      ],
      "metadata": {
        "colab": {
          "base_uri": "https://localhost:8080/"
        },
        "id": "a--aIhqcda8r",
        "outputId": "b8ffd0e0-56e9-4187-e5e7-c94d25acd65f"
      },
      "execution_count": null,
      "outputs": [
        {
          "output_type": "stream",
          "name": "stdout",
          "text": [
            "/content\n"
          ]
        }
      ]
    },
    {
      "cell_type": "code",
      "source": [
        "!ls unix_practice/"
      ],
      "metadata": {
        "colab": {
          "base_uri": "https://localhost:8080/"
        },
        "id": "6gRW3_mtdfQv",
        "outputId": "748720b8-a499-4fd5-882e-5b10f575ffae"
      },
      "execution_count": null,
      "outputs": [
        {
          "output_type": "stream",
          "name": "stdout",
          "text": [
            "reports  warning\n"
          ]
        }
      ]
    },
    {
      "cell_type": "code",
      "source": [
        "%cd unix_practice/reports"
      ],
      "metadata": {
        "colab": {
          "base_uri": "https://localhost:8080/"
        },
        "id": "OKaSPggLdfeS",
        "outputId": "12dcdfbd-41b2-442d-861d-52581b6452ad"
      },
      "execution_count": null,
      "outputs": [
        {
          "output_type": "stream",
          "name": "stdout",
          "text": [
            "/content/unix_practice/reports\n"
          ]
        }
      ]
    },
    {
      "cell_type": "code",
      "source": [
        "%cd Jul"
      ],
      "metadata": {
        "colab": {
          "base_uri": "https://localhost:8080/"
        },
        "id": "-b7OVPc6dzAo",
        "outputId": "bf86b1f2-e755-4fe1-88d4-421f47680ec3"
      },
      "execution_count": null,
      "outputs": [
        {
          "output_type": "stream",
          "name": "stdout",
          "text": [
            "/content/unix_practice/reports/Jul\n"
          ]
        }
      ]
    },
    {
      "cell_type": "code",
      "source": [
        "!ls"
      ],
      "metadata": {
        "colab": {
          "base_uri": "https://localhost:8080/"
        },
        "id": "qXCKytM0d0bU",
        "outputId": "b3ba68f0-cfe9-455c-a495-a97cba78767d"
      },
      "execution_count": null,
      "outputs": [
        {
          "output_type": "stream",
          "name": "stdout",
          "text": [
            "finances.txt  performance.txt\n"
          ]
        }
      ]
    },
    {
      "cell_type": "code",
      "source": [
        "!cat finances.txt"
      ],
      "metadata": {
        "colab": {
          "base_uri": "https://localhost:8080/"
        },
        "id": "WXNhbXmOecEH",
        "outputId": "7048f49f-405d-49f9-d9b4-41320e1edcde"
      },
      "execution_count": null,
      "outputs": [
        {
          "output_type": "stream",
          "name": "stdout",
          "text": [
            "2024 July Finance Report\n"
          ]
        }
      ]
    },
    {
      "cell_type": "code",
      "source": [
        "!cat performance.txt"
      ],
      "metadata": {
        "colab": {
          "base_uri": "https://localhost:8080/"
        },
        "id": "c-xa1c-Ce19z",
        "outputId": "bf524b86-89ab-4ba7-ecf1-6b92e36274da"
      },
      "execution_count": null,
      "outputs": [
        {
          "output_type": "stream",
          "name": "stdout",
          "text": [
            "2024 July Performance Report\n"
          ]
        }
      ]
    },
    {
      "cell_type": "code",
      "source": [
        "!cp finances.txt finances_2409.txt"
      ],
      "metadata": {
        "id": "UHiUVDXye3DU"
      },
      "execution_count": null,
      "outputs": []
    },
    {
      "cell_type": "code",
      "source": [
        "!ls"
      ],
      "metadata": {
        "colab": {
          "base_uri": "https://localhost:8080/"
        },
        "id": "QK_755-Ze9w6",
        "outputId": "0509535e-e54f-434d-ea0d-4c2e6c4770d3"
      },
      "execution_count": null,
      "outputs": [
        {
          "output_type": "stream",
          "name": "stdout",
          "text": [
            "finances_2409.txt  finances.txt  performance.txt\n"
          ]
        }
      ]
    },
    {
      "cell_type": "code",
      "source": [
        "!cat finances_2409.txt"
      ],
      "metadata": {
        "colab": {
          "base_uri": "https://localhost:8080/"
        },
        "id": "XU1yH2FTfAno",
        "outputId": "c829ab77-28bd-4c03-d4fe-69be89cc5eda"
      },
      "execution_count": null,
      "outputs": [
        {
          "output_type": "stream",
          "name": "stdout",
          "text": [
            "2024 July Finance Report\n"
          ]
        }
      ]
    },
    {
      "cell_type": "code",
      "source": [
        "# -i\n",
        "# 덮어씌울 것인지 묻는 옵션\n",
        "!cp -i finances.txt ../Aug"
      ],
      "metadata": {
        "id": "NFP7saELfF5D"
      },
      "execution_count": null,
      "outputs": []
    },
    {
      "cell_type": "code",
      "source": [
        "# 디렉토리 복사\n",
        "%cd .."
      ],
      "metadata": {
        "colab": {
          "base_uri": "https://localhost:8080/"
        },
        "id": "IsLKA5TTfZY8",
        "outputId": "0a4846d0-a78c-42cb-fab8-5528da221d04"
      },
      "execution_count": null,
      "outputs": [
        {
          "output_type": "stream",
          "name": "stdout",
          "text": [
            "/content/unix_practice/reports\n"
          ]
        }
      ]
    },
    {
      "cell_type": "code",
      "source": [
        "!ls"
      ],
      "metadata": {
        "colab": {
          "base_uri": "https://localhost:8080/"
        },
        "id": "ZT0ry3HafbDI",
        "outputId": "0b275e52-b6d5-417c-8f2c-3203714053ef"
      },
      "execution_count": null,
      "outputs": [
        {
          "output_type": "stream",
          "name": "stdout",
          "text": [
            "Aug  Jul  Oct  Sep\n"
          ]
        }
      ]
    },
    {
      "cell_type": "code",
      "source": [
        "# 폴더 복사 안됨\n",
        "!cp Jul Jul_copy"
      ],
      "metadata": {
        "colab": {
          "base_uri": "https://localhost:8080/"
        },
        "id": "htUarMfsfb7g",
        "outputId": "383a49c1-0f7d-4332-db18-9215cbe843b4"
      },
      "execution_count": null,
      "outputs": [
        {
          "output_type": "stream",
          "name": "stdout",
          "text": [
            "cp: -r not specified; omitting directory 'Jul'\n"
          ]
        }
      ]
    },
    {
      "cell_type": "code",
      "source": [
        "# -r 옵션 필요\n",
        "!cp -r Jul Jul_copy"
      ],
      "metadata": {
        "id": "Typ8BEvSfhnd"
      },
      "execution_count": null,
      "outputs": []
    },
    {
      "cell_type": "code",
      "source": [
        "!ls"
      ],
      "metadata": {
        "colab": {
          "base_uri": "https://localhost:8080/"
        },
        "id": "qP_Pm_C7fkJc",
        "outputId": "4fe2b8bc-d3b6-423a-87ea-ee7813634148"
      },
      "execution_count": null,
      "outputs": [
        {
          "output_type": "stream",
          "name": "stdout",
          "text": [
            "Aug  Jul  Jul_copy  Oct  Sep\n"
          ]
        }
      ]
    },
    {
      "cell_type": "code",
      "source": [
        "!ls Jul_copy/"
      ],
      "metadata": {
        "colab": {
          "base_uri": "https://localhost:8080/"
        },
        "id": "XQJA7J7BfkWn",
        "outputId": "50e523bd-e7af-42f7-cae5-251cb51f287c"
      },
      "execution_count": null,
      "outputs": [
        {
          "output_type": "stream",
          "name": "stdout",
          "text": [
            "finances_2409.txt  finances.txt  performance.txt\n"
          ]
        }
      ]
    },
    {
      "cell_type": "markdown",
      "source": [
        "## 디렉토리와 파일 삭제하기\n",
        "- rm\n",
        "    - remove\n",
        "- rm path\n",
        "    - path => 지우고 싶은 파일(폴더) 경로\n",
        "- rm path path2 path3\n",
        "    - 여러개도 입력 가능"
      ],
      "metadata": {
        "id": "8WmZI-qlftAH"
      }
    },
    {
      "cell_type": "code",
      "source": [
        "!ls"
      ],
      "metadata": {
        "colab": {
          "base_uri": "https://localhost:8080/"
        },
        "id": "4iKyTYYAf-Al",
        "outputId": "e4f92237-ba5b-4d54-e753-afc653f83b4b"
      },
      "execution_count": null,
      "outputs": [
        {
          "output_type": "stream",
          "name": "stdout",
          "text": [
            "Aug  Jul  Jul_copy  Oct  Sep\n"
          ]
        }
      ]
    },
    {
      "cell_type": "code",
      "source": [
        "%cd ../warning"
      ],
      "metadata": {
        "colab": {
          "base_uri": "https://localhost:8080/"
        },
        "id": "IVzDCjA4f-jY",
        "outputId": "1b4cb74d-f271-46fb-e204-1abe12fc1c67"
      },
      "execution_count": null,
      "outputs": [
        {
          "output_type": "stream",
          "name": "stdout",
          "text": [
            "/content/unix_practice/warning\n"
          ]
        }
      ]
    },
    {
      "cell_type": "code",
      "source": [
        "!ls"
      ],
      "metadata": {
        "colab": {
          "base_uri": "https://localhost:8080/"
        },
        "id": "5c42S7J8gBK5",
        "outputId": "11ddf7f0-3fb9-439c-ffb6-d36d5a77016b"
      },
      "execution_count": null,
      "outputs": [
        {
          "output_type": "stream",
          "name": "stdout",
          "text": [
            "test1.txt  test2.txt\n"
          ]
        }
      ]
    },
    {
      "cell_type": "code",
      "source": [
        "!rm test1.txt"
      ],
      "metadata": {
        "id": "On8JEHU2gDdQ"
      },
      "execution_count": null,
      "outputs": []
    },
    {
      "cell_type": "code",
      "source": [
        "%cd .."
      ],
      "metadata": {
        "colab": {
          "base_uri": "https://localhost:8080/"
        },
        "id": "UkkrFbejgG-G",
        "outputId": "6aabd940-d020-4f9c-dad0-8f17b77db35c"
      },
      "execution_count": null,
      "outputs": [
        {
          "output_type": "stream",
          "name": "stdout",
          "text": [
            "/content/unix_practice\n"
          ]
        }
      ]
    },
    {
      "cell_type": "code",
      "source": [
        "# 디렉토리 삭제시에는 -r 옵션 필요\n",
        "!rm warning"
      ],
      "metadata": {
        "colab": {
          "base_uri": "https://localhost:8080/"
        },
        "id": "xe0F6xrSgHpw",
        "outputId": "aaf8d162-317d-40ae-debe-a09985deb17d"
      },
      "execution_count": null,
      "outputs": [
        {
          "output_type": "stream",
          "name": "stdout",
          "text": [
            "rm: cannot remove 'warning': Is a directory\n"
          ]
        }
      ]
    },
    {
      "cell_type": "code",
      "source": [
        "!rm -r warning"
      ],
      "metadata": {
        "id": "rIpOXZjPgIhG"
      },
      "execution_count": null,
      "outputs": []
    },
    {
      "cell_type": "code",
      "source": [
        "# -ri 옵션 혼합 사용\n",
        "# 디렉토리를 삭제할 때 묻는 기능\n",
        "%cd reports\n",
        "!ls"
      ],
      "metadata": {
        "colab": {
          "base_uri": "https://localhost:8080/"
        },
        "id": "ZEAmkycSgNT0",
        "outputId": "bb060eea-4025-4c24-9209-dfe7b3a20266"
      },
      "execution_count": null,
      "outputs": [
        {
          "output_type": "stream",
          "name": "stdout",
          "text": [
            "/content/unix_practice/reports\n",
            "Aug  Jul  Jul_copy  Oct  Sep\n"
          ]
        }
      ]
    },
    {
      "cell_type": "code",
      "source": [
        "!rm -ri Jul_copy"
      ],
      "metadata": {
        "colab": {
          "base_uri": "https://localhost:8080/"
        },
        "id": "5aHY-Y9YggKp",
        "outputId": "b7a38ce2-30bc-46ee-8e35-7b851a8b3744"
      },
      "execution_count": null,
      "outputs": [
        {
          "output_type": "stream",
          "name": "stdout",
          "text": [
            "rm: descend into directory 'Jul_copy'? ^C\n"
          ]
        }
      ]
    },
    {
      "cell_type": "code",
      "source": [
        "# 강제 삭제\n",
        "!rm -rf Jul_copy"
      ],
      "metadata": {
        "id": "zOcaPKLsgj0D"
      },
      "execution_count": null,
      "outputs": []
    },
    {
      "cell_type": "code",
      "source": [],
      "metadata": {
        "id": "jiZn-G3hg7k7"
      },
      "execution_count": null,
      "outputs": []
    }
  ]
}